{
 "cells": [
  {
   "cell_type": "code",
   "execution_count": 1,
   "id": "339e74e7",
   "metadata": {},
   "outputs": [],
   "source": [
    "import pandas as pd"
   ]
  },
  {
   "cell_type": "code",
   "execution_count": 2,
   "id": "49a8ccae",
   "metadata": {},
   "outputs": [
    {
     "data": {
      "text/plain": [
       "'1.5.2'"
      ]
     },
     "execution_count": 2,
     "metadata": {},
     "output_type": "execute_result"
    }
   ],
   "source": [
    "pd.__version__"
   ]
  },
  {
   "cell_type": "code",
   "execution_count": 3,
   "id": "c5b6d885",
   "metadata": {},
   "outputs": [
    {
     "name": "stdout",
     "output_type": "stream",
     "text": [
      "/bin/bash: line 1: pgcli: command not found\n"
     ]
    }
   ],
   "source": [
    "!pgcli"
   ]
  },
  {
   "cell_type": "code",
   "execution_count": 4,
   "id": "991df1b4-5bca-4802-bd7d-400fb0e55d26",
   "metadata": {},
   "outputs": [
    {
     "name": "stdout",
     "output_type": "stream",
     "text": [
      "Collecting pgcli\n",
      "  Downloading pgcli-4.0.1-py3-none-any.whl.metadata (13 kB)\n",
      "Collecting pgspecial>=2.0.0 (from pgcli)\n",
      "  Downloading pgspecial-2.1.1-py3-none-any.whl.metadata (3.2 kB)\n",
      "Requirement already satisfied: click>=4.1 in /home/vscode/.local/lib/python3.9/site-packages (from pgcli) (8.1.7)\n",
      "Requirement already satisfied: Pygments>=2.0 in /home/vscode/.local/lib/python3.9/site-packages (from pgcli) (2.17.2)\n",
      "Requirement already satisfied: prompt-toolkit<4.0.0,>=2.0.6 in /home/vscode/.local/lib/python3.9/site-packages (from pgcli) (3.0.43)\n",
      "Collecting psycopg>=3.0.14 (from pgcli)\n",
      "  Downloading psycopg-3.1.17-py3-none-any.whl.metadata (4.2 kB)\n",
      "Requirement already satisfied: sqlparse<0.5,>=0.3.0 in /home/vscode/.local/lib/python3.9/site-packages (from pgcli) (0.4.4)\n",
      "Collecting configobj>=5.0.6 (from pgcli)\n",
      "  Downloading configobj-5.0.8-py2.py3-none-any.whl (36 kB)\n",
      "Requirement already satisfied: pendulum>=2.1.0 in /home/vscode/.local/lib/python3.9/site-packages (from pgcli) (3.0.0)\n",
      "Collecting cli-helpers>=2.2.1 (from cli-helpers[styles]>=2.2.1->pgcli)\n",
      "  Downloading cli_helpers-2.3.0-py3-none-any.whl (19 kB)\n",
      "Collecting setproctitle>=1.1.9 (from pgcli)\n",
      "  Downloading setproctitle-1.3.3-cp39-cp39-manylinux_2_5_x86_64.manylinux1_x86_64.manylinux_2_17_x86_64.manylinux2014_x86_64.whl.metadata (9.9 kB)\n",
      "Collecting tabulate>=0.8.2 (from tabulate[widechars]>=0.8.2->cli-helpers>=2.2.1->cli-helpers[styles]>=2.2.1->pgcli)\n",
      "  Downloading tabulate-0.9.0-py3-none-any.whl (35 kB)\n",
      "Requirement already satisfied: six in /home/vscode/.local/lib/python3.9/site-packages (from configobj>=5.0.6->pgcli) (1.16.0)\n",
      "Requirement already satisfied: python-dateutil>=2.6 in /home/vscode/.local/lib/python3.9/site-packages (from pendulum>=2.1.0->pgcli) (2.8.2)\n",
      "Requirement already satisfied: tzdata>=2020.1 in /home/vscode/.local/lib/python3.9/site-packages (from pendulum>=2.1.0->pgcli) (2023.4)\n",
      "Requirement already satisfied: time-machine>=2.6.0 in /home/vscode/.local/lib/python3.9/site-packages (from pendulum>=2.1.0->pgcli) (2.13.0)\n",
      "Requirement already satisfied: wcwidth in /home/vscode/.local/lib/python3.9/site-packages (from prompt-toolkit<4.0.0,>=2.0.6->pgcli) (0.2.13)\n",
      "Requirement already satisfied: typing-extensions>=4.1 in /home/vscode/.local/lib/python3.9/site-packages (from psycopg>=3.0.14->pgcli) (4.9.0)\n",
      "Downloading pgcli-4.0.1-py3-none-any.whl (83 kB)\n",
      "\u001b[2K   \u001b[38;2;114;156;31m━━━━━━━━━━━━━━━━━━━━━━━━━━━━━━━━━━━━━━━━\u001b[0m \u001b[32m83.0/83.0 kB\u001b[0m \u001b[31m3.9 MB/s\u001b[0m eta \u001b[36m0:00:00\u001b[0m\n",
      "\u001b[?25hDownloading pgspecial-2.1.1-py3-none-any.whl (35 kB)\n",
      "Downloading psycopg-3.1.17-py3-none-any.whl (178 kB)\n",
      "\u001b[2K   \u001b[38;2;114;156;31m━━━━━━━━━━━━━━━━━━━━━━━━━━━━━━━━━━━━━━━━\u001b[0m \u001b[32m178.0/178.0 kB\u001b[0m \u001b[31m4.7 MB/s\u001b[0m eta \u001b[36m0:00:00\u001b[0m[36m0:00:01\u001b[0m\n",
      "\u001b[?25hDownloading setproctitle-1.3.3-cp39-cp39-manylinux_2_5_x86_64.manylinux1_x86_64.manylinux_2_17_x86_64.manylinux2014_x86_64.whl (30 kB)\n",
      "Installing collected packages: tabulate, setproctitle, psycopg, configobj, pgspecial, cli-helpers, pgcli\n",
      "Successfully installed cli-helpers-2.3.0 configobj-5.0.8 pgcli-4.0.1 pgspecial-2.1.1 psycopg-3.1.17 setproctitle-1.3.3 tabulate-0.9.0\n"
     ]
    }
   ],
   "source": [
    "!pip install pgcli"
   ]
  },
  {
   "cell_type": "code",
   "execution_count": 5,
   "id": "d0ed6105-ae7b-4b75-9b44-e408cf273bd5",
   "metadata": {},
   "outputs": [
    {
     "name": "stdout",
     "output_type": "stream",
     "text": [
      "Traceback (most recent call last):\n",
      "  File \"/usr/local/python/current/bin/pgcli\", line 5, in <module>\n",
      "    from pgcli.main import cli\n",
      "  File \"/usr/local/python/3.9.18/lib/python3.9/site-packages/pgcli/main.py\", line 2, in <module>\n",
      "    from pgspecial.namedqueries import NamedQueries\n",
      "  File \"/usr/local/python/3.9.18/lib/python3.9/site-packages/pgspecial/__init__.py\", line 12, in <module>\n",
      "    from . import dbcommands\n",
      "  File \"/usr/local/python/3.9.18/lib/python3.9/site-packages/pgspecial/dbcommands.py\", line 7, in <module>\n",
      "    from psycopg.sql import SQL\n",
      "  File \"/usr/local/python/3.9.18/lib/python3.9/site-packages/psycopg/__init__.py\", line 9, in <module>\n",
      "    from . import pq  # noqa: F401 import early to stabilize side effects\n",
      "  File \"/usr/local/python/3.9.18/lib/python3.9/site-packages/psycopg/pq/__init__.py\", line 114, in <module>\n",
      "    import_from_libpq()\n",
      "  File \"/usr/local/python/3.9.18/lib/python3.9/site-packages/psycopg/pq/__init__.py\", line 106, in import_from_libpq\n",
      "    raise ImportError(\n",
      "ImportError: no pq wrapper available.\n",
      "Attempts made:\n",
      "- couldn't import psycopg 'c' implementation: No module named 'psycopg_c'\n",
      "- couldn't import psycopg 'binary' implementation: No module named 'psycopg_binary'\n",
      "- couldn't import psycopg 'python' implementation: libpq library not found\n"
     ]
    }
   ],
   "source": [
    "!pgcli"
   ]
  },
  {
   "cell_type": "code",
   "execution_count": null,
   "id": "b054574a-bfb4-4b32-97f3-84d48bce7510",
   "metadata": {},
   "outputs": [],
   "source": []
  }
 ],
 "metadata": {
  "kernelspec": {
   "display_name": "Python 3 (ipykernel)",
   "language": "python",
   "name": "python3"
  },
  "language_info": {
   "codemirror_mode": {
    "name": "ipython",
    "version": 3
   },
   "file_extension": ".py",
   "mimetype": "text/x-python",
   "name": "python",
   "nbconvert_exporter": "python",
   "pygments_lexer": "ipython3",
   "version": "3.9.18"
  }
 },
 "nbformat": 4,
 "nbformat_minor": 5
}
